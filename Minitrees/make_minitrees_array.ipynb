{
 "cells": [
  {
   "cell_type": "code",
   "execution_count": 2,
   "metadata": {},
   "outputs": [
    {
     "name": "stdout",
     "output_type": "stream",
     "text": [
      "Welcome to JupyROOT 6.22/08\n"
     ]
    }
   ],
   "source": [
    "# we need to fix the event mixing problem in the reponse matrix \n",
    "# and the mother-daughter link is required to fix this problem  \n",
    "\n",
    "import os, sys\n",
    "import ROOT\n",
    "import uproot\n",
    "#import pandas\n",
    "import argparse\n",
    "import awkward as ak \n",
    "import matplotlib \n",
    "import matplotlib.pyplot as plt \n",
    "import numpy as np\n",
    "import mplhep as hep\n",
    "from tqdm import trange\n",
    "import vector \n",
    "import time \n",
    "import hist"
   ]
  },
  {
   "cell_type": "code",
   "execution_count": 3,
   "metadata": {},
   "outputs": [],
   "source": [
    "ntuple = uproot.open(\"../Ntuples/ntuple_TTJets_DiLept_TuneCUETP8M1_14TeV-madgraphMLM-pythia8_200PU_1.root\")"
   ]
  },
  {
   "cell_type": "code",
   "execution_count": 8,
   "metadata": {},
   "outputs": [
    {
     "name": "stdout",
     "output_type": "stream",
     "text": [
      "['evt_size', 'weight_size', 'weight', 'rho_size', 'rho', 'vtx_size', 'vtx_x', 'vtx_y', 'vtx_z', 'vtx_t', 'vtx_pt2', 'gamma_size', 'gamma_pt', 'gamma_eta', 'gamma_phi', 'gamma_mass', 'elec_size', 'elec_pt', 'elec_eta', 'elec_phi', 'elec_mass', 'elec_charge', 'elec_sum_pt', 'elec_reliso', 'muon_size', 'muon_pt', 'muon_eta', 'muon_phi', 'muon_mass', 'muon_charge', 'muon_sum_pt', 'muon_reliso', 'jet_size', 'jet_pt', 'jet_eta', 'jet_phi', 'jet_mass', 'jet_btag', 'met_size', 'met_pt', 'met_phi', 'met_eta', 'scalar_ht_size', 'scalar_ht', 'genpart_size', 'genpart_pid', 'genpart_status', 'genpart_m1', 'genpart_m2', 'genpart_d1', 'genpart_d2', 'genpart_pt', 'genpart_eta', 'genpart_phi', 'genpart_mass', 'genpart_charge', 'genjet_size', 'genjet_pt', 'genjet_eta', 'genjet_phi', 'genjet_mass']\n"
     ]
    }
   ],
   "source": [
    "print(ntuple['Delphes_Ntuples;1'].keys())"
   ]
  },
  {
   "cell_type": "code",
   "execution_count": 167,
   "metadata": {},
   "outputs": [],
   "source": [
    "def processor(file):\n",
    "    \n",
    "    vector.register_awkward()\n",
    "    ntuple = uproot.open(\"../Ntuples/ntuple_TTJets_DiLept_TuneCUETP8M1_14TeV-madgraphMLM-pythia8_200PU_1.root\")\n",
    "    max_events = len(ntuple['Delphes_Ntuples;1']['jet_pt'].array())\n",
    "    \n",
    "    branches = ntuple['Delphes_Ntuples;1'].keys()\n",
    "    \n",
    "    tree = ntuple[\"Delphes_Ntuples;1\"].arrays(filter_name=branches, entry_start=0, entry_stop=max_events)\n",
    "    #tree = uproot.open(file)[\"Delphes_Ntuples\"].arrays(filter_name=branches)\n",
    "    \n",
    "    genpart = ak.Array(\n",
    "        ak.zip(\n",
    "            {\n",
    "                \"pt\": tree[\"genpart_pt\"],\n",
    "                \"eta\": tree[\"genpart_eta\"],\n",
    "                \"charge\": tree[\"genpart_charge\"],\n",
    "                \"status\": tree[\"genpart_status\"],  \n",
    "                \"pid\": tree[\"genpart_pid\"],\n",
    "                \"phi\": tree[\"genpart_phi\"],\n",
    "                \"mass\": tree[\"genpart_mass\"],\n",
    "                #\"met\": tree[\"MET_pt\"]    \n",
    "            }\n",
    "        )\n",
    "    )\n",
    "    \n",
    "    print(len(genpart.pid[1]))\n",
    "    #print(tree[\"genpart_pid\"][1])\n",
    "    \n",
    "    #for n in range(len(branches)):\n",
    "    #print(branches[n], tree[branches[n]])\n",
    "    \n",
    "    #elec_mask = ( np.logical_or(np.logical_or(genpart.pid==11, genpart.pid==13), genpart.pid==15) )\n",
    "    \n",
    "    elec_mask = genpart.pid==11\n",
    "    muon_mask = genpart.pid==13\n",
    "    tau_mask = genpart.pid==15\n",
    "    \n",
    "    lep_mask = (genpart.pid==11) + (genpart.pid==13) + (genpart.pid==15)\n",
    "    \n",
    "    print(ak.count_nonzero(lep_mask[1]))\n",
    "    print(ak.count_nonzero(elec_mask[1]+muon_mask[1]+tau_mask[1]))\n",
    "    print(ak.count_nonzero(elec_mask[1]), ak.count_nonzero(muon_mask[1]), ak.count_nonzero(tau_mask[1]))"
   ]
  },
  {
   "cell_type": "code",
   "execution_count": 168,
   "metadata": {},
   "outputs": [
    {
     "name": "stdout",
     "output_type": "stream",
     "text": [
      "292\n",
      "5\n",
      "5\n",
      "2 3 0\n"
     ]
    }
   ],
   "source": [
    "processor('../Ntuples/ntuple_TTJets_DiLept_TuneCUETP8M1_14TeV-madgraphMLM-pythia8_200PU_1.root')"
   ]
  },
  {
   "cell_type": "code",
   "execution_count": null,
   "metadata": {
    "collapsed": true
   },
   "outputs": [],
   "source": []
  }
 ],
 "metadata": {
  "kernelspec": {
   "display_name": "Coffea-Jason",
   "language": "python3",
   "name": "coffea-jason"
  },
  "language_info": {
   "codemirror_mode": {
    "name": "ipython",
    "version": 3
   },
   "file_extension": ".py",
   "mimetype": "text/x-python",
   "name": "python",
   "nbconvert_exporter": "python",
   "pygments_lexer": "ipython3",
   "version": "3.7.12"
  }
 },
 "nbformat": 4,
 "nbformat_minor": 2
}
